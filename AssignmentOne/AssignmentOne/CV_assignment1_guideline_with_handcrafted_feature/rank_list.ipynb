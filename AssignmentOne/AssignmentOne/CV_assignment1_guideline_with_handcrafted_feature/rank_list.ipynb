{
 "cells": [
  {
   "cell_type": "markdown",
   "id": "f22e4061",
   "metadata": {},
   "source": [
    "**Simple example for Asg1 with handcrafted feature**\n",
    "\n",
    "An example diagram for instance search.\n",
    "Please read the slide \"Information for Asg1\" first.\n",
    "\n",
    "In every bounding box file (the txt files), each line records the coordinates of one bounding box in format: x of top-left point, y of top-left point, width, height.\n",
    "\n",
    "The bounding box information is only provided for the query images.\n",
    "\n",
    "Notes: it's possible that there are more than one instances in a query image (see the annotation(s) in the corresponding txt file), you should find the most similar image rank list in the gallery by considering all the instances."
   ]
  },
  {
   "cell_type": "code",
   "execution_count": 13,
   "id": "2a23afb4",
   "metadata": {},
   "outputs": [],
   "source": [
    "import numpy as np \n",
    "import cv2 \n",
    "import pandas as pd\n",
    "import glob\n",
    "import time "
   ]
  },
  {
   "cell_type": "markdown",
   "id": "e51e5e91",
   "metadata": {},
   "source": [
    " Download the dataset from this linke [onedrive link](https://portland-my.sharepoint.com/:u:/g/personal/srwang3-c_my_cityu_edu_hk/EZ0BIZatMIJMoiCG4-uy6okBSlXLJD7TUyIDG1lbKUJ0eA?e=lbKz4a).\n",
    "And unzip the downloaded file into some path. \n",
    "> In this tutorial, the path is `/Users/txsing/datasets_4186`, please replace to your own accordingly.\n",
    "\n",
    "Initialize the necessary parameters, including paths, feature extractors."
   ]
  },
  {
   "cell_type": "code",
   "execution_count": 14,
   "id": "61bae164",
   "metadata": {},
   "outputs": [],
   "source": [
    "# download_path='/Users/jethrotsoi/Downloads/AssignmentOne/CS4186_dataset' # change to your own download path\n",
    "download_path='//Users/jethrotsoi/git/CS4186/AssignmentOne/CS4186_dataset'\n",
    "path_query=download_path+'/query_img_4186'\n",
    "path_query_txt=download_path+'/query_img_box_4186'\n",
    "\n",
    "# path_query_txt is the directory to the bounding box information of the instance(s) for the query images\n",
    "path_gallery=download_path+'/gallery_4186'\n",
    "\n",
    "name_query=glob.glob(path_query+'/*.jpg')\n",
    "num_query=len(name_query)\n",
    "name_gallery=glob.glob(path_gallery+'/*.jpg')\n",
    "num_gallery=len(name_gallery)\n",
    "sift = cv2.ORB_create()\n",
    "record_all=np.zeros((num_query,len(name_gallery)))\n",
    "\n",
    "query_imgs_no = [x.split('/')[-1][:-4] for x in glob.glob(path_query+'/*.jpg')]\n",
    "gallery_imgs_no = [x.split('/')[-1][:-4] for x in glob.glob(path_gallery+'/*.jpg')]"
   ]
  },
  {
   "cell_type": "code",
   "execution_count": 15,
   "id": "4bf2e60a-4ae8-473b-a93a-093c837b944c",
   "metadata": {},
   "outputs": [
    {
     "name": "stdout",
     "output_type": "stream",
     "text": [
      "['2714', '776', '3557', '2461', '1709', '316', '2176', '1656', '4716', '3906', '35', '1258', '4929', '4445', '27', '2032', '3502', '2040', '4354', '3833']\n"
     ]
    }
   ],
   "source": [
    "print(query_imgs_no)"
   ]
  },
  {
   "cell_type": "code",
   "execution_count": 16,
   "id": "d665f979",
   "metadata": {},
   "outputs": [],
   "source": [
    "class SIFT_Result:\n",
    "    def __init__(self, kp, des):\n",
    "        self.per_query_kp = kp\n",
    "        self.per_query_des = des"
   ]
  },
  {
   "cell_type": "markdown",
   "id": "33233d03",
   "metadata": {},
   "source": [
    "Process\n",
    "\n",
    "Feature extraction -> calculate distance -> compare"
   ]
  },
  {
   "cell_type": "code",
   "execution_count": 17,
   "id": "c2968b28",
   "metadata": {},
   "outputs": [],
   "source": [
    "# # the iteration loop for query \n",
    "# # iteration times is 2 here, only for the demonstration]\n",
    "        \n",
    "# query_sift_results = {}\n",
    "# for i, query_img_no in enumerate(query_imgs_no[0:2]):\n",
    "#     time_s = time.time()\n",
    "#     dist_record=[]\n",
    "#     per_query_name=path_query+'/'+str(query_img_no)+'.jpg'\n",
    "#     per_query=cv2.imread(per_query_name)\n",
    "#     # feature extraction for per query\n",
    "#     # the bounding box information is not considered\n",
    "\n",
    "#     # Add bounding box information to the query image\n",
    "#     per_query_txt_name = path_query_txt+'/'+str(query_img_no)+'.txt'\n",
    "#     # Load the bounding box information\n",
    "#     with open(per_query_txt_name, 'r') as f:\n",
    "#         bbox = [int(x) for x in f.read().split()]\n",
    "\n",
    "#     # Crop the image using bounding box\n",
    "#     x, y, w, h = bbox\n",
    "#     crop_img = per_query[y:y+h, x:x+w]\n",
    "\n",
    "#     # Apply SIFT to cropped image\n",
    "#     # sift = cv2.xfeatures2d.SIFT_create()\n",
    "#     per_query_kp, per_query_des = sift.detectAndCompute(crop_img, None)\n",
    "\n",
    "#     query_sift_results[query_img_no] = SIFT_Result(per_query_kp, per_query_des)\n",
    "\n",
    "#     # # quite naive, just an example\n",
    "#     # per_query_kp, per_query_des = sift.detectAndCompute(per_query,None)\n",
    "\n",
    "\n",
    "#     # the iteration loop for gallery\n",
    "#     for j, gallery_img_no in enumerate(gallery_imgs_no):\n",
    "#         per_gallery_name = path_gallery+'/'+str(gallery_img_no)+'.jpg'\n",
    "#         per_gallery=cv2.imread(per_gallery_name)\n",
    "#         # feature extraction for per gallery\n",
    "#         per_gallery_kp, per_gallery_des = sift.detectAndCompute(per_gallery,None)\n",
    "#         # use part of the features to make the calculation feasible\n",
    "#         # quite naive, just an example\n",
    "#         min_kp_num=np.amin([len(per_query_kp),len(per_gallery_kp)])\n",
    "#         query_part=per_query_des[0:min_kp_num,:]\n",
    "#         gallery_part=per_gallery_des[0:min_kp_num,:]\n",
    "#         # distance calculation in feature domain (similarity)\n",
    "#         dist_record.append(np.sum((np.double(query_part)-np.double(gallery_part))**2)/np.prod(np.shape(query_part)))\n",
    "#     # find the indexes with descending similarity order\n",
    "#     ascend_index=sorted(range(len(dist_record)), key=lambda k: dist_record[k])\n",
    "#     # update the results for one query \n",
    "#     record_all[i,:]=ascend_index\n",
    "#     time_e = time.time()\n",
    "#     print('retrieval time for query {} is {}s'.format(query_img_no, time_e-time_s))"
   ]
  },
  {
   "cell_type": "code",
   "execution_count": 18,
   "id": "d3285473",
   "metadata": {},
   "outputs": [],
   "source": [
    "# import pickle\n",
    "# import os\n",
    "# save_gallery_sift_results_path = '/Users/jethrotsoi/git/CS4186/AssignmentOne/SIFT/data/SIFT/gallery_sift_results.pkl'\n",
    "gallery_sift_results = {}\n",
    "# if os.path.exists(save_gallery_sift_results_path):\n",
    "#     with open(save_gallery_sift_results_path, 'rb') as f:\n",
    "#         gallery_sift_results = pickle.load(f)"
   ]
  },
  {
   "cell_type": "code",
   "execution_count": 19,
   "id": "af132a4a",
   "metadata": {},
   "outputs": [
    {
     "ename": "TypeError",
     "evalue": "cannot pickle 'cv2.KeyPoint' object",
     "output_type": "error",
     "traceback": [
      "\u001b[0;31m---------------------------------------------------------------------------\u001b[0m",
      "\u001b[0;31mTypeError\u001b[0m                                 Traceback (most recent call last)",
      "\u001b[1;32m/Users/jethrotsoi/git/CS4186/AssignmentOne/AssignmentOne/CV_assignment1_guideline_with_handcrafted_feature/rank_list.ipynb Cell 10\u001b[0m line \u001b[0;36m1\n\u001b[1;32m     <a href='vscode-notebook-cell:/Users/jethrotsoi/git/CS4186/AssignmentOne/AssignmentOne/CV_assignment1_guideline_with_handcrafted_feature/rank_list.ipynb#X20sZmlsZQ%3D%3D?line=9'>10</a>\u001b[0m \u001b[39m# Save the dictionary into a pickle file\u001b[39;00m\n\u001b[1;32m     <a href='vscode-notebook-cell:/Users/jethrotsoi/git/CS4186/AssignmentOne/AssignmentOne/CV_assignment1_guideline_with_handcrafted_feature/rank_list.ipynb#X20sZmlsZQ%3D%3D?line=10'>11</a>\u001b[0m \u001b[39mwith\u001b[39;00m \u001b[39mopen\u001b[39m(save_gallery_sift_results_path, \u001b[39m'\u001b[39m\u001b[39mwb\u001b[39m\u001b[39m'\u001b[39m) \u001b[39mas\u001b[39;00m f:\n\u001b[0;32m---> <a href='vscode-notebook-cell:/Users/jethrotsoi/git/CS4186/AssignmentOne/AssignmentOne/CV_assignment1_guideline_with_handcrafted_feature/rank_list.ipynb#X20sZmlsZQ%3D%3D?line=11'>12</a>\u001b[0m     pickle\u001b[39m.\u001b[39mdump(gallery_sift_results, f)\n",
      "\u001b[0;31mTypeError\u001b[0m: cannot pickle 'cv2.KeyPoint' object"
     ]
    }
   ],
   "source": [
    "# Calculate SIFT results for all gallery images\n",
    "for gallery_img_no in gallery_imgs_no:\n",
    "    if gallery_img_no in gallery_sift_results:\n",
    "        continue\n",
    "    per_gallery_name = path_gallery+'/'+str(gallery_img_no)+'.jpg'\n",
    "    per_gallery = cv2.imread(per_gallery_name)\n",
    "    per_gallery_kp, per_gallery_des = sift.detectAndCompute(per_gallery, None)\n",
    "    gallery_sift_results[gallery_img_no] = SIFT_Result(per_gallery_kp, per_gallery_des)\n",
    "    \n",
    "# # Save the dictionary into a pickle file\n",
    "# with open(save_gallery_sift_results_path, 'wb') as f:\n",
    "#     pickle.dump(gallery_sift_results, f)"
   ]
  },
  {
   "cell_type": "code",
   "execution_count": null,
   "id": "8498e13e",
   "metadata": {},
   "outputs": [
    {
     "ename": "FileNotFoundError",
     "evalue": "[Errno 2] No such file or directory: '/Users/jethrotsoi/git/CS4186/AssignmentOne/SIFT/data/SIFT/gallery_sift_results.pkl'",
     "output_type": "error",
     "traceback": [
      "\u001b[0;31m---------------------------------------------------------------------------\u001b[0m",
      "\u001b[0;31mFileNotFoundError\u001b[0m                         Traceback (most recent call last)",
      "\u001b[1;32m/Users/jethrotsoi/git/CS4186/AssignmentOne/AssignmentOne/CV_assignment1_guideline_with_handcrafted_feature/rank_list.ipynb Cell 9\u001b[0m line \u001b[0;36m4\n\u001b[1;32m      <a href='vscode-notebook-cell:/Users/jethrotsoi/git/CS4186/AssignmentOne/AssignmentOne/CV_assignment1_guideline_with_handcrafted_feature/rank_list.ipynb#X15sZmlsZQ%3D%3D?line=1'>2</a>\u001b[0m gallery_sift_results \u001b[39m=\u001b[39m {}\n\u001b[1;32m      <a href='vscode-notebook-cell:/Users/jethrotsoi/git/CS4186/AssignmentOne/AssignmentOne/CV_assignment1_guideline_with_handcrafted_feature/rank_list.ipynb#X15sZmlsZQ%3D%3D?line=2'>3</a>\u001b[0m save_gallery_sift_results_path \u001b[39m=\u001b[39m \u001b[39m'\u001b[39m\u001b[39m/Users/jethrotsoi/git/CS4186/AssignmentOne/SIFT/data/SIFT/gallery_sift_results.pkl\u001b[39m\u001b[39m'\u001b[39m\n\u001b[0;32m----> <a href='vscode-notebook-cell:/Users/jethrotsoi/git/CS4186/AssignmentOne/AssignmentOne/CV_assignment1_guideline_with_handcrafted_feature/rank_list.ipynb#X15sZmlsZQ%3D%3D?line=3'>4</a>\u001b[0m \u001b[39mwith\u001b[39;00m \u001b[39mopen\u001b[39m(save_gallery_sift_results_path, \u001b[39m'\u001b[39m\u001b[39mrb\u001b[39m\u001b[39m'\u001b[39m) \u001b[39mas\u001b[39;00m f:\n\u001b[1;32m      <a href='vscode-notebook-cell:/Users/jethrotsoi/git/CS4186/AssignmentOne/AssignmentOne/CV_assignment1_guideline_with_handcrafted_feature/rank_list.ipynb#X15sZmlsZQ%3D%3D?line=4'>5</a>\u001b[0m     gallery_sift_results \u001b[39m=\u001b[39m pickle\u001b[39m.\u001b[39mload(f)\n\u001b[1;32m      <a href='vscode-notebook-cell:/Users/jethrotsoi/git/CS4186/AssignmentOne/AssignmentOne/CV_assignment1_guideline_with_handcrafted_feature/rank_list.ipynb#X15sZmlsZQ%3D%3D?line=6'>7</a>\u001b[0m \u001b[39m# Calculate SIFT results for all gallery images\u001b[39;00m\n",
      "File \u001b[0;32m~/anaconda3/lib/python3.11/site-packages/IPython/core/interactiveshell.py:286\u001b[0m, in \u001b[0;36m_modified_open\u001b[0;34m(file, *args, **kwargs)\u001b[0m\n\u001b[1;32m    279\u001b[0m \u001b[39mif\u001b[39;00m file \u001b[39min\u001b[39;00m {\u001b[39m0\u001b[39m, \u001b[39m1\u001b[39m, \u001b[39m2\u001b[39m}:\n\u001b[1;32m    280\u001b[0m     \u001b[39mraise\u001b[39;00m \u001b[39mValueError\u001b[39;00m(\n\u001b[1;32m    281\u001b[0m         \u001b[39mf\u001b[39m\u001b[39m\"\u001b[39m\u001b[39mIPython won\u001b[39m\u001b[39m'\u001b[39m\u001b[39mt let you open fd=\u001b[39m\u001b[39m{\u001b[39;00mfile\u001b[39m}\u001b[39;00m\u001b[39m by default \u001b[39m\u001b[39m\"\u001b[39m\n\u001b[1;32m    282\u001b[0m         \u001b[39m\"\u001b[39m\u001b[39mas it is likely to crash IPython. If you know what you are doing, \u001b[39m\u001b[39m\"\u001b[39m\n\u001b[1;32m    283\u001b[0m         \u001b[39m\"\u001b[39m\u001b[39myou can use builtins\u001b[39m\u001b[39m'\u001b[39m\u001b[39m open.\u001b[39m\u001b[39m\"\u001b[39m\n\u001b[1;32m    284\u001b[0m     )\n\u001b[0;32m--> 286\u001b[0m \u001b[39mreturn\u001b[39;00m io_open(file, \u001b[39m*\u001b[39margs, \u001b[39m*\u001b[39m\u001b[39m*\u001b[39mkwargs)\n",
      "\u001b[0;31mFileNotFoundError\u001b[0m: [Errno 2] No such file or directory: '/Users/jethrotsoi/git/CS4186/AssignmentOne/SIFT/data/SIFT/gallery_sift_results.pkl'"
     ]
    }
   ],
   "source": [
    "# Calculate SIFT results for query images and compare with gallery images\n",
    "query_sift_results = {}\n",
    "for i, query_img_no in enumerate(query_imgs_no[0:2]):\n",
    "    time_s = time.time()\n",
    "    dist_record = []\n",
    "    per_query_name = path_query+'/'+str(query_img_no)+'.jpg'\n",
    "    per_query = cv2.imread(per_query_name)\n",
    "\n",
    "        # Add bounding box information to the query image\n",
    "    per_query_txt_name = path_query_txt+'/'+str(query_img_no)+'.txt'\n",
    "    # Load the bounding box information\n",
    "    with open(per_query_txt_name, 'r') as f:\n",
    "        bbox = [int(x) for x in f.read().split()]\n",
    "\n",
    "    # Crop the image using bounding box\n",
    "    x, y, w, h = bbox\n",
    "    crop_img = per_query[y:y+h, x:x+w]\n",
    "\n",
    "    # Apply SIFT to cropped image\n",
    "    # sift = cv2.xfeatures2d.SIFT_create()\n",
    "    per_query_kp, per_query_des = sift.detectAndCompute(crop_img, None)\n",
    "\n",
    "    query_sift_results[query_img_no] = SIFT_Result(per_query_kp, per_query_des)\n",
    "\n",
    "    # Compare with each gallery image\n",
    "    for gallery_img_no in gallery_imgs_no:\n",
    "        sift_result = gallery_sift_results[gallery_img_no]\n",
    "        per_gallery_kp = sift_result.per_query_kp  # assuming 'kp' is the attribute name for keypoints\n",
    "        per_gallery_des = sift_result.per_query_des  # assuming 'des' is the attribute name for descriptors\n",
    "        min_kp_num = np.amin([len(per_query_kp), len(per_gallery_kp)])\n",
    "        query_part = per_query_des[0:min_kp_num, :]\n",
    "        gallery_part = per_gallery_des[0:min_kp_num, :]\n",
    "        dist_record.append(np.sum((np.double(query_part)-np.double(gallery_part))**2)/np.prod(np.shape(query_part)))\n",
    "\n",
    "    # find the indexes with descending similarity order\n",
    "    ascend_index=sorted(range(len(dist_record)), key=lambda k: dist_record[k])\n",
    "    # update the results for one query \n",
    "    record_all[i,:]=ascend_index\n",
    "    time_e = time.time()\n",
    "    print('retrieval time for query {} is {}s'.format(query_img_no, time_e-time_s))"
   ]
  },
  {
   "cell_type": "code",
   "execution_count": null,
   "id": "9d144784-ddbb-4e0e-b536-54bcfd1e009c",
   "metadata": {},
   "outputs": [
    {
     "name": "stdout",
     "output_type": "stream",
     "text": [
      "For query image No. 2714, the top ranked similar image No. is 82.\n"
     ]
    }
   ],
   "source": [
    "query_idx = 0\n",
    "print(f'For query image No. {query_imgs_no[query_idx]}, the top ranked similar image No. is {gallery_imgs_no[int(record_all[query_idx][-1])]}.')"
   ]
  },
  {
   "cell_type": "markdown",
   "id": "ef9d3349",
   "metadata": {},
   "source": [
    "Output \n",
    "\n",
    "Save the rank list file."
   ]
  },
  {
   "cell_type": "code",
   "execution_count": null,
   "id": "5e5c8170",
   "metadata": {},
   "outputs": [],
   "source": [
    "# write the output file following the example\n",
    "f=open(r'./rank_list.txt','w')\n",
    "for i in range(num_query):\n",
    "    f.write('Q'+str(i+1)+': ')\n",
    "    for j in range(len(name_gallery)):\n",
    "        f.write(str(np.int32(record_all[i,j]))+' ')\n",
    "    f.write('\\n')\n",
    "f.close()"
   ]
  }
 ],
 "metadata": {
  "kernelspec": {
   "display_name": "Python 3",
   "language": "python",
   "name": "python3"
  },
  "language_info": {
   "codemirror_mode": {
    "name": "ipython",
    "version": 3
   },
   "file_extension": ".py",
   "mimetype": "text/x-python",
   "name": "python",
   "nbconvert_exporter": "python",
   "pygments_lexer": "ipython3",
   "version": "3.11.5"
  }
 },
 "nbformat": 4,
 "nbformat_minor": 5
}
